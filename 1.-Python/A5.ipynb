{
 "cells": [
  {
   "cell_type": "markdown",
   "metadata": {},
   "source": [
    "Temperature Sensor\n",
    "There is a temperature sensor in the processor of your company's server. The company wants to analyze the data provided by the sensor to decide if they should change the cooling system for a better one. As changing the cooling system is expensive and you are an excellent data analyst, you can't make a decision without basis.\n",
    "\n",
    "Tools\n",
    "You don't necessarily need to use all the tools. Maybe you opt to use some of them or completely different ones, they are given to help you shape the exercise. Programming exercises can be solved in many different ways.\n",
    "\n",
    "Data structures: lists\n",
    "Loops: list comprehension\n",
    "Functions: min, max, print, len\n",
    "Conditional statements: if-elif-else"
   ]
  },
  {
   "cell_type": "markdown",
   "metadata": {},
   "source": [
    "he temperatures measured throughout the 24 hours of a day are:\n",
    "\n",
    "In [ ]:\n",
    "temperatures_C = [33, 66, 65, 0, 59, 60, 62, 64, 70, 76, 80, 81, 80, 83, 90, 79, 61, 53, 50, 49, 53, 48, 45, 39]\n",
    "The first element of the list is the temperature at 12am, the second element is the temperature at 1am, and so on.\n",
    "\n",
    "The company has decided that if one of the following events occurs, then the cooling system needs to be replaced for a new one to avoid damaging the processor.\n",
    "\n",
    "More than 4 temperatures are greater than or equal to 70ºC.\n",
    "Any temperature is above 80ºC.\n",
    "The average temperature exceeds 65ºC.\n",
    "Follow the steps so that you can make the decision."
   ]
  },
  {
   "cell_type": "markdown",
   "metadata": {},
   "source": [
    "1. Find the minimum temperature of the day and store it in a variable."
   ]
  },
  {
   "cell_type": "code",
   "execution_count": 14,
   "metadata": {},
   "outputs": [],
   "source": [
    "temperatures_C = [33, 66, 65, 0, 59, 60, 62, 64, 70, 76, 80, 81, 80, 83, 90, 79, 61, 53, 50, 49, 53, 48, 45, 39]\n",
    "temperatures_C.sort()\n",
    "temperatures_C\n",
    "temperatures_B = [33, 66, 65, 0, 59, 60, 62, 64, 70, 76, 80, 81, 80, 83, 90, 79, 61, 53, 50, 49, 53, 48, 45, 39]\n"
   ]
  },
  {
   "cell_type": "code",
   "execution_count": 4,
   "metadata": {
    "scrolled": true
   },
   "outputs": [
    {
     "name": "stdout",
     "output_type": "stream",
     "text": [
      "The minimum temperatuur is 0\n"
     ]
    }
   ],
   "source": [
    "Temp_min = min(temperatures_C)\n",
    "print('The minimum temperatuur is', Temp_min)"
   ]
  },
  {
   "cell_type": "markdown",
   "metadata": {},
   "source": [
    "2. Find the maximum temperature of the day and store it in a variable."
   ]
  },
  {
   "cell_type": "code",
   "execution_count": 5,
   "metadata": {},
   "outputs": [
    {
     "name": "stdout",
     "output_type": "stream",
     "text": [
      "The minimum temperatuur is 90\n"
     ]
    }
   ],
   "source": [
    "Temp_max = max(temperatures_C)\n",
    "print('The minimum temperatuur is', Temp_max)"
   ]
  },
  {
   "cell_type": "markdown",
   "metadata": {},
   "source": [
    "3. Create a list with the temperatures that are greater than or equal to 70ºC. Store it in a variable."
   ]
  },
  {
   "cell_type": "code",
   "execution_count": 6,
   "metadata": {},
   "outputs": [
    {
     "name": "stdout",
     "output_type": "stream",
     "text": [
      "the list for temperatures that are greater than or equal to 70ºC is list_temp_more_than_70C, list contains following ellements [70, 76, 79, 80, 80, 81, 83, 90]\n"
     ]
    }
   ],
   "source": [
    "list_temp_more_than_70C = []\n",
    "x = 0 \n",
    "\n",
    "for x in range(len(temperatures_C)):\n",
    "    if temperatures_C[x] >= 70:\n",
    "        list_temp_more_than_70C.append(temperatures_C[x])\n",
    "print('the list for temperatures that are greater than or equal to 70ºC is list_temp_more_than_70C, list contains following ellements', list_temp_more_than_70C) \n"
   ]
  },
  {
   "cell_type": "markdown",
   "metadata": {},
   "source": [
    "4. Find the average temperature of the day and store it in a variable."
   ]
  },
  {
   "cell_type": "code",
   "execution_count": 7,
   "metadata": {},
   "outputs": [
    {
     "name": "stdout",
     "output_type": "stream",
     "text": [
      "The average temperature of the day is 60.25\n"
     ]
    }
   ],
   "source": [
    "print('The average temperature of the day is', sum(temperatures_C)/len(temperatures_C))"
   ]
  },
  {
   "cell_type": "markdown",
   "metadata": {},
   "source": [
    "5. Imagine that there was a sensor failure at 3am and the data for that specific hour was not recorded. How would you estimate the missing value? Replace the current value of the list at 3am for an estimation."
   ]
  },
  {
   "cell_type": "code",
   "execution_count": 48,
   "metadata": {},
   "outputs": [
    {
     "name": "stdout",
     "output_type": "stream",
     "text": [
      "The missing value is replaced by 62.0 the number is calculated by the sum of the value of 2AM and 3AM that is devided by two.\n",
      "The value 0 is replaced by the new value 62.0 and added tot the list [33, 66, 65, 62.0, 59, 60, 62, 64, 70, 76, 80, 81, 80, 83, 90, 79, 61, 53, 50, 49, 53, 48, 45, 39]\n"
     ]
    }
   ],
   "source": [
    "sum_2AM_4AM = temperatures_B[2] + temperatures_B[4]\n",
    "estimate_3AM = sum_2AM_4AM / 2\n",
    "estimate_3AM\n",
    "print('The missing value is replaced by', estimate_3AM, 'the number is calculated by the sum of the value of 2AM and 3AM that is devided by two.')\n",
    "for n, i in enumerate(temperatures_B):\n",
    "    if i == 0:\n",
    "        temperatures_B[n] = estimate_3AM\n",
    "\n",
    "print('The value 0 is replaced by the new value 62.0 and added tot the list', temperatures_B)"
   ]
  },
  {
   "cell_type": "markdown",
   "metadata": {},
   "source": [
    "6. Bonus: the maintenance staff is from the United States and does not understand the international metric system. Help them by converting the temperatures from Celsius to Fahrenheit.\n",
    "To know more about temperature conversion check this link.\n",
    "\n",
    "Formula:\n",
    "\n",
    "$F = 1.8 * C + 32$"
   ]
  },
  {
   "cell_type": "code",
   "execution_count": 88,
   "metadata": {},
   "outputs": [
    {
     "data": {
      "text/plain": [
       "[32.0,\n",
       " 91.4,\n",
       " 102.2,\n",
       " 113.0,\n",
       " 118.4,\n",
       " 120.2,\n",
       " 122.0,\n",
       " 127.4,\n",
       " 127.4,\n",
       " 138.2,\n",
       " 140.0,\n",
       " 141.8,\n",
       " 143.60000000000002,\n",
       " 147.2,\n",
       " 149.0,\n",
       " 150.8,\n",
       " 158.0,\n",
       " 168.8,\n",
       " 174.20000000000002,\n",
       " 176.0,\n",
       " 176.0,\n",
       " 177.8,\n",
       " 181.4,\n",
       " 194.0]"
      ]
     },
     "execution_count": 88,
     "metadata": {},
     "output_type": "execute_result"
    }
   ],
   "source": [
    "Fharenheit = []\n",
    "x = 0\n",
    "for x in range(len(temperatures_C)):\n",
    "    f = (1.8 * temperatures_C[x]) + 32\n",
    "    Fharenheit.append(f)\n",
    "Fharenheit"
   ]
  },
  {
   "cell_type": "markdown",
   "metadata": {},
   "source": [
    "7. Make a decision!\n",
    "Now it's time to make a decision taking into account what you have seen until now.\n",
    "\n",
    "Remember that if one of the following events occurs, then the cooling system needs to be replaced for a new one to avoid damaging the processor.\n",
    "\n",
    "More than 4 temperatures are greater than or equal to 70ºC.\n",
    "Any temperature is above 80ºC.\n",
    "The average temperature exceeds 65ºC.\n",
    "To make your decision, check if any of the three conditions above is met. You might need to use some of the variables you created in steps 1 to 6. Print a message to show if the cooling system needs to be changed or not."
   ]
  },
  {
   "cell_type": "code",
   "execution_count": 105,
   "metadata": {},
   "outputs": [
    {
     "name": "stdout",
     "output_type": "stream",
     "text": [
      "Are more than 4 temperatures are greater than or equal to 70ºC ?\n",
      "8 temperatures are greater than 70C, the temperatures are [70, 76, 79, 80, 80, 81, 83, 90] so yes 4 temperatures are greater than 70ºC\n",
      "Is any temperature is above 80ºC?\n",
      "3 temperatures are greater than 80C, the temperatures are [81, 83, 90]\n",
      "Is the average temperature exceeds 65ºC?  the average temperature is 60.25 so it does not exceeds 65ºC\n",
      "Based on these facts the cooling system needs to be replaced for a new one to avoid damaging the processor\n"
     ]
    }
   ],
   "source": [
    "print('Are more than 4 temperatures are greater than or equal to 70ºC ?')\n",
    "\n",
    "list_temp_more_than_70C = []\n",
    "x = 0 \n",
    "y = 0\n",
    "\n",
    "for x in range(len(temperatures_C)):\n",
    "    if temperatures_C[x] >= 70:\n",
    "        list_temp_more_than_70C.append(temperatures_C[x])\n",
    "        y = y + 1\n",
    "print(y, 'temperatures are greater than 70C, the temperatures are', list_temp_more_than_70C, 'so yes 4 temperatures are greater than 70ºC') \n",
    "\n",
    "print('Is any temperature is above 80ºC?')\n",
    "\n",
    "list_temp_more_than_70C = []\n",
    "x = 0 \n",
    "y = 0\n",
    "list_temp_more_than_80C = []\n",
    "\n",
    "for x in range(len(temperatures_C)):\n",
    "    if temperatures_C[x] > 80:\n",
    "        list_temp_more_than_80C.append(temperatures_C[x])\n",
    "        y = y + 1\n",
    "print(y, 'temperatures are greater than 80C, the temperatures are', list_temp_more_than_80C) \n",
    "print('Is the average temperature exceeds 65ºC?',' the average temperature is', sum(temperatures_C)/len(temperatures_C), 'so it does not exceeds 65ºC')\n",
    "print('Based on these facts the cooling system needs to be replaced for a new one to avoid damaging the processor')"
   ]
  }
 ],
 "metadata": {
  "kernelspec": {
   "display_name": "Python 3",
   "language": "python",
   "name": "python3"
  },
  "language_info": {
   "codemirror_mode": {
    "name": "ipython",
    "version": 3
   },
   "file_extension": ".py",
   "mimetype": "text/x-python",
   "name": "python",
   "nbconvert_exporter": "python",
   "pygments_lexer": "ipython3",
   "version": "3.8.5"
  }
 },
 "nbformat": 4,
 "nbformat_minor": 4
}
