{
 "cells": [
  {
   "cell_type": "markdown",
   "metadata": {},
   "source": [
    "Robin Hood\n",
    "Robin Hood has entered a competition to win the archery contest in Sherwood. With his bow and arrows, he needs to shoot on a target and try to hit as close as possible to the center."
   ]
  },
  {
   "cell_type": "markdown",
   "metadata": {},
   "source": [
    "Context\n",
    "In this challenge, the landing position of arrows shot by archers in the competition will be represented using 2-dimensional coordinates.\n",
    "\n",
    "In the 2-dimensional space, a point can be defined by a pair of values that correspond to the horizontal coordinate (x) and the vertical coordinate (y). For example, in our case, an arrow that hits the center of the archery target will land in position (0, 0) on the coordinate axes.\n",
    "\n",
    "The space can be divided into 4 zones (quadrants): Q1, Q2, Q3, Q4. If a point is in Q1, both its x coordinate and y coordinate are positive. Any point with a null x or y coordinate is considered to not belong to any quadrant.\n",
    "\n",
    "If you want to know more about the cartesian coordinate system, you can check this link.\n",
    "\n",
    "Tools\n",
    "You don't necessarily need to use all the tools. Maybe you opt to use some of them or completely different ones, they are given to help you shape the exercise. Programming exercises can be solved in many different ways.\n",
    "\n",
    "Data structures: lists, sets, tuples\n",
    "Conditional statements: if-elif-else\n",
    "Loop: while/for\n",
    "Minimum (optional sorting)\n",
    "Tasks\n",
    "Robin Hood has hit the following points:"
   ]
  },
  {
   "cell_type": "code",
   "execution_count": 2,
   "metadata": {},
   "outputs": [],
   "source": [
    "points = [(4, 5), (-0, 2), (4, 7), (1, -3), (3, -2), (4, 5), (3, 2), (5, 7), (-5, 7), (2, 2), (-4, 5), (0, -2),\n",
    "          (-4, 7), (-1, 3), (-3, 2), (-4, -5), (-3, 2), (5, 7), (5, 7), (2, 2), (9, 9), (-8, -9)]"
   ]
  },
  {
   "cell_type": "markdown",
   "metadata": {},
   "source": [
    "1. Robin Hood is famous for hitting an arrow with another arrow. Find the coordinates of the points where an arrow hits another arrow."
   ]
  },
  {
   "cell_type": "code",
   "execution_count": 3,
   "metadata": {},
   "outputs": [
    {
     "name": "stdout",
     "output_type": "stream",
     "text": [
      "[[4, 5], [0, 2], [4, 7], [1, -3], [3, -2], [4, 5], [3, 2], [5, 7], [-5, 7], [2, 2], [-4, 5], [0, -2], [-4, 7], [-1, 3], [-3, 2], [-4, -5], [-3, 2], [5, 7], [5, 7], [2, 2], [9, 9], [-8, -9]]\n"
     ]
    },
    {
     "data": {
      "text/plain": [
       "22"
      ]
     },
     "execution_count": 3,
     "metadata": {},
     "output_type": "execute_result"
    }
   ],
   "source": [
    "x = 0\n",
    "list_points = []\n",
    "\n",
    "for x in points:\n",
    "    y = list(x)\n",
    "    list_points.append(y)\n",
    "print(list_points)\n",
    "\n",
    "len(list_points)"
   ]
  },
  {
   "cell_type": "code",
   "execution_count": 4,
   "metadata": {
    "scrolled": false
   },
   "outputs": [
    {
     "data": {
      "text/plain": [
       "[[-8, -9],\n",
       " [-5, 7],\n",
       " [-4, -5],\n",
       " [-4, 5],\n",
       " [-4, 7],\n",
       " [-3, 2],\n",
       " [-3, 2],\n",
       " [-1, 3],\n",
       " [0, -2],\n",
       " [0, 2],\n",
       " [1, -3],\n",
       " [2, 2],\n",
       " [2, 2],\n",
       " [3, -2],\n",
       " [3, 2],\n",
       " [4, 5],\n",
       " [4, 5],\n",
       " [4, 7],\n",
       " [5, 7],\n",
       " [5, 7],\n",
       " [5, 7],\n",
       " [9, 9]]"
      ]
     },
     "execution_count": 4,
     "metadata": {},
     "output_type": "execute_result"
    }
   ],
   "source": [
    "list_points.sort()\n",
    "list_points"
   ]
  },
  {
   "cell_type": "code",
   "execution_count": 97,
   "metadata": {},
   "outputs": [
    {
     "name": "stdout",
     "output_type": "stream",
     "text": [
      "[-3, 2]\n",
      "[2, 2]\n",
      "[4, 5]\n",
      "[5, 7]\n",
      "[5, 7]\n"
     ]
    }
   ],
   "source": [
    "x = 0 \n",
    "\n",
    "for x in range(len(list_points)):\n",
    "    if list_points[x] == list_points[x - 1]:\n",
    "        print(list_points[x])\n"
   ]
  },
  {
   "cell_type": "markdown",
   "metadata": {},
   "source": [
    "2. Calculate how many arrows have fallen in each quadrant.\n",
    "Note: the arrows that fall in the axis (x=0 or y=0) don't belong to any quadrant."
   ]
  },
  {
   "cell_type": "code",
   "execution_count": 105,
   "metadata": {
    "scrolled": true
   },
   "outputs": [
    {
     "name": "stdout",
     "output_type": "stream",
     "text": [
      "Arrows fallen in Q1 is 10\n",
      "Arrows fallen in Q2 is 2\n",
      "Arrows fallen in Q3 is 6\n",
      "Arrows fallen in Q4 is 2\n"
     ]
    }
   ],
   "source": [
    "x = 0 \n",
    "Q1 = 0\n",
    "Q2 = 0\n",
    "Q3 = 0\n",
    "Q4 = 0\n",
    "\n",
    "for x in range(len(list_points)):\n",
    "    if 0 < list_points[x][0]:\n",
    "        if 0 < list_points[x][1]:\n",
    "            Q1 = Q1 + 1\n",
    "    if 0 > list_points[x][0]:\n",
    "        if 0 > list_points[x][1]:\n",
    "            Q2 = Q2 + 1\n",
    "    if 0 > list_points[x][0]:\n",
    "        if 0 < list_points[x][1]:\n",
    "            Q3 = Q3 + 1\n",
    "    if 0 < list_points[x][0]:\n",
    "        if 0 > list_points[x][1]:\n",
    "             Q4 = Q4 + 1\n",
    "print(\"Arrows fallen in Q1 is\", Q1)\n",
    "print(\"Arrows fallen in Q2 is\", Q2)\n",
    "print(\"Arrows fallen in Q3 is\", Q3)\n",
    "print(\"Arrows fallen in Q4 is\", Q4)"
   ]
  },
  {
   "cell_type": "markdown",
   "metadata": {},
   "source": [
    "3. Find the point closest to the center. Calculate its distance to the center.\n",
    "Take into account that there might be more than one point at the minimum distance to the center.\n",
    "\n",
    "Hint: Use the Euclidean distance. You can find more information about it here.\n",
    "Hint: Defining a function that calculates the distance to the center can help."
   ]
  },
  {
   "cell_type": "code",
   "execution_count": 106,
   "metadata": {},
   "outputs": [],
   "source": [
    "import math\n"
   ]
  },
  {
   "cell_type": "code",
   "execution_count": 254,
   "metadata": {},
   "outputs": [
    {
     "name": "stdout",
     "output_type": "stream",
     "text": [
      "The distance of the points closest to the center is 2.0\n",
      "the total of points closest to the center is 2\n",
      "One point is [[0, -2]]\n",
      "One point is [[0, 2]]\n"
     ]
    }
   ],
   "source": [
    "x = 0\n",
    "y = 0 \n",
    "list_distance = []\n",
    "for x in range(len(list_points)):\n",
    "    d = math.sqrt(((list_points[x][0]- 0)**2) + ((list_points[x][1] - 0)**2))\n",
    "    list_distance.append([[list_points[x]],d])\n",
    "print('The distance of the points closest to the center is',min(distance))\n",
    "for x in range(len(list_points)):\n",
    "    if min(distance) == list_distance[x][1]:\n",
    "        y = y + 1\n",
    "print('the total of points closest to the center is', y)\n",
    "for x in range(len(list_points)):\n",
    "    if min(distance) == list_distance[x][1]:\n",
    "        print('One point is', list_distance[x][0]"
   ]
  },
  {
   "cell_type": "markdown",
   "metadata": {},
   "source": [
    "4. If the archery target has a radius of 9, calculate the number of arrows that won't hit the target."
   ]
  },
  {
   "cell_type": "code",
   "execution_count": 262,
   "metadata": {},
   "outputs": [
    {
     "name": "stdout",
     "output_type": "stream",
     "text": [
      "the number of arrows that will not hit the archery target is 2\n",
      "One point that will not hit is [-8, -9]\n",
      "One point that will not hit is [9, 9]\n"
     ]
    }
   ],
   "source": [
    "d = 9\n",
    "x = 0\n",
    "y = 0 \n",
    "for x in range(len(list_points)):\n",
    "    if d <= math.sqrt(((list_points[x][0]- 0)**2) + ((list_points[x][1] - 0)**2)):\n",
    "        y = y + 1\n",
    "print('the number of arrows that will not hit the archery target is', y)\n",
    "for x in range(len(list_points)):\n",
    "    if d <= math.sqrt(((list_points[x][0]- 0)**2) + ((list_points[x][1] - 0)**2)):\n",
    "        print('One point that will not hit is', list_points[x])\n",
    "\n"
   ]
  },
  {
   "cell_type": "code",
   "execution_count": null,
   "metadata": {},
   "outputs": [],
   "source": []
  }
 ],
 "metadata": {
  "kernelspec": {
   "display_name": "Python 3",
   "language": "python",
   "name": "python3"
  },
  "language_info": {
   "codemirror_mode": {
    "name": "ipython",
    "version": 3
   },
   "file_extension": ".py",
   "mimetype": "text/x-python",
   "name": "python",
   "nbconvert_exporter": "python",
   "pygments_lexer": "ipython3",
   "version": "3.8.5"
  }
 },
 "nbformat": 4,
 "nbformat_minor": 4
}
