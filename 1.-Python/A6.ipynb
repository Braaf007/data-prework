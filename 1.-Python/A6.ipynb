{
 "cells": [
  {
   "cell_type": "markdown",
   "metadata": {},
   "source": [
    "Rock, Paper & Scissors\n",
    "Let's play the famous game against our computer. You can check the rules here.\n",
    "\n",
    "Task\n",
    "Create a program that imitates the playability of the well known game of rock, paper, scissors. Follow the guidelines provided.\n",
    "\n",
    "Tools\n",
    "Loop: for/while\n",
    "Functions: input(), print()...\n",
    "Conditional statements: if, elif, else\n",
    "Definition of functions. Modular programming\n",
    "Import modules\n",
    "To solve this challenge, the use of functions is recommended."
   ]
  },
  {
   "cell_type": "markdown",
   "metadata": {},
   "source": [
    "1. Import the choice function of the random module."
   ]
  },
  {
   "cell_type": "code",
   "execution_count": 5,
   "metadata": {},
   "outputs": [],
   "source": [
    "import random "
   ]
  },
  {
   "cell_type": "markdown",
   "metadata": {},
   "source": [
    "2. Create a list that includes the 3 possible gesture options of the game: 'rock', 'paper' or 'scissors'. Store the list in a variable called gestures."
   ]
  },
  {
   "cell_type": "code",
   "execution_count": 6,
   "metadata": {},
   "outputs": [],
   "source": [
    "gestures = ['rock', 'paper', 'scissors']"
   ]
  },
  {
   "cell_type": "markdown",
   "metadata": {},
   "source": [
    "3. Create a variable called n_rounds to store the maximum number of rounds to play in a game.\n",
    "Remember that the number of rounds must be odd: 1, 3, 5,"
   ]
  },
  {
   "cell_type": "code",
   "execution_count": 7,
   "metadata": {},
   "outputs": [],
   "source": [
    "n_rounds = 3"
   ]
  },
  {
   "cell_type": "markdown",
   "metadata": {},
   "source": [
    "4. Create a variable called rounds_to_win to store the number of rounds that a player must win to win the game.\n",
    "Hint: the value stored in rounds_to_win depends on the value of n_rounds."
   ]
  },
  {
   "cell_type": "code",
   "execution_count": 8,
   "metadata": {},
   "outputs": [],
   "source": [
    "rounds_to_win = ((n_rounds + 1)/2)"
   ]
  },
  {
   "cell_type": "markdown",
   "metadata": {},
   "source": [
    "5. Create two variables to store the number of rounds that the computer and the player have won. Call these variables cpu_score and player_score."
   ]
  },
  {
   "cell_type": "code",
   "execution_count": 9,
   "metadata": {},
   "outputs": [],
   "source": [
    "cpu_score = 0\n",
    "player_score = 0"
   ]
  },
  {
   "cell_type": "markdown",
   "metadata": {},
   "source": [
    "6. Define a function that randomly returns one of the 3 gesture options."
   ]
  },
  {
   "cell_type": "code",
   "execution_count": 10,
   "metadata": {},
   "outputs": [],
   "source": [
    "choice_usp = random.choice(gestures)\n"
   ]
  },
  {
   "cell_type": "markdown",
   "metadata": {},
   "source": [
    "7. Define a function that asks the player which is the gesture he or she wants to show: 'rock', 'paper' or 'scissors'.\n",
    "The player should only be allowed to choose one of the 3 gesture options. If the player's choice is not rock, paper or scissors, keep asking until it is."
   ]
  },
  {
   "cell_type": "code",
   "execution_count": 11,
   "metadata": {},
   "outputs": [
    {
     "name": "stdout",
     "output_type": "stream",
     "text": [
      "Let's play, choose a gesture, rock, paper or scissors: rock\n"
     ]
    }
   ],
   "source": [
    "while True:\n",
    "  try:\n",
    "    choice_user = input(\"Let's play, choose a gesture, rock, paper or scissors: \")\n",
    "    if choice_user == \"rock\" or chooce_user == \"paper\" or choice_user == \"scissors\":\n",
    "      break;\n",
    "    else:\n",
    "      print(\"Choice should be either: rock, paper or scissors\")   \n",
    "  except:\n",
    "    continue"
   ]
  },
  {
   "cell_type": "markdown",
   "metadata": {},
   "source": [
    "8. Define a function that checks who won a round.\n",
    "The function should return 0 if there is a tie, 1 if the computer wins and 2 if the player wins."
   ]
  },
  {
   "cell_type": "code",
   "execution_count": 12,
   "metadata": {},
   "outputs": [
    {
     "name": "stdout",
     "output_type": "stream",
     "text": [
      "1\n"
     ]
    }
   ],
   "source": [
    "zero = 0\n",
    "one = 1\n",
    "two = 2\n",
    "\n",
    "if choice_user == \"rock\" and choice_usp == \"scissors\":\n",
    "    print(two)\n",
    "elif choice_user == \"paper\" and choice_usp == \"rock\":\n",
    "    print(two)\n",
    "elif choice_user == \"scissors\" and choice_usp == \"paper\":\n",
    "    print(two)\n",
    "elif choice_usp == \"rock\" and choice_user == \"scissors\":\n",
    "    print(one)\n",
    "elif choice_usp == \"paper\" and choice_user == \"rock\":\n",
    "    print(one)\n",
    "elif choice_usp == \"scissors\" and choice_user == \"paper\":\n",
    "    print(one)  \n",
    "else:\n",
    "    print(zero)\n"
   ]
  },
  {
   "cell_type": "markdown",
   "metadata": {},
   "source": [
    "\n",
    "9. Define a function that prints the choice of the computer, the choice of the player and a message that announces who won the current round.\n",
    "You should also use this function to update the variables that count the number of rounds that the computer and the player have won. The score of the winner increases by one point. If there is a tie, the score does not increase."
   ]
  },
  {
   "cell_type": "code",
   "execution_count": 13,
   "metadata": {},
   "outputs": [],
   "source": [
    "def play_a_round():\n",
    "    while True: \n",
    "        try:\n",
    "            choice_user = input(\"Let's play, choose a gesture, rock, paper or scissors: \")\n",
    "            if choice_user == \"rock\" or choice_user == \"paper\" or choice_user == \"scissors\":\n",
    "                break;\n",
    "            else:\n",
    "                print(\"Choice should be either: rock, paper or scissors\")   \n",
    "        except:\n",
    "            continue  \n",
    "    choice_usp = random.choice(gestures)\n",
    "    print('computer choice', choice_usp)\n",
    "    cpu_score = 0\n",
    "    player_score = 0\n",
    "    n_rounds = 0\n",
    "    if choice_user == \"rock\" and choice_usp == \"scissors\":\n",
    "        print(\"round won by user\")\n",
    "        player_score = player_score + 1\n",
    "        n_rounds = n_rounds + 1\n",
    "    elif choice_user == \"paper\" and choice_usp == \"rock\":\n",
    "        print(\"round won by user\")\n",
    "        player_score = player_score + 1\n",
    "        n_rounds = n_rounds + 1\n",
    "    elif choice_user == \"scissors\" and choice_usp == \"paper\":\n",
    "        print(\"round won by user\")\n",
    "        player_score = player_score + 1\n",
    "        n_rounds = n_rounds + 1\n",
    "    elif choice_usp == \"rock\" and choice_user == \"scissors\":\n",
    "        print(\"round won by computer\")\n",
    "        cpu_score = cpu_score + 1\n",
    "        n_rounds = n_rounds + 1\n",
    "    elif choice_usp == \"paper\" and choice_user == \"rock\":\n",
    "        print(\"round won by computer\")\n",
    "        cpu_score = cpu_score + 1\n",
    "        n_rounds = n_rounds + 1\n",
    "    elif choice_usp == \"scissors\" and choice_user == \"paper\":\n",
    "        print(\"round won by computer\")\n",
    "        cpu_score = cpu_score + 1\n",
    "        n_rounds = n_rounds + 1\n",
    "    else:\n",
    "        print('Tie, nobody won')\n",
    "        n_rounds = n_rounds + 1\n",
    "    print(\"\\n\")\n",
    "    print('rounds played:', n_rounds)\n",
    "    print('rounds won by computer', cpu_score )\n",
    "    print('rounds won by user', player_score )\n"
   ]
  },
  {
   "cell_type": "markdown",
   "metadata": {},
   "source": [
    "\n",
    "10. Now it's time to code the execution of the game using the functions and variables you defined above.\n",
    "First, create a loop structure that repeats while no player reaches the minimum score necessary to win and the number of rounds is less than the maximum number of rounds to play in a game.\n",
    "\n",
    "Inside the loop, use the functions and variables above to create the execution of a round: ask for the player's choice, generate the random choice of the computer, show the round results, update the scores, etc."
   ]
  },
  {
   "cell_type": "code",
   "execution_count": 15,
   "metadata": {},
   "outputs": [
    {
     "name": "stdout",
     "output_type": "stream",
     "text": [
      "Let's play, choose a gesture, rock, paper or scissors: paper\n",
      "computer choice scissors\n",
      "round won by computer\n",
      "\n",
      "\n",
      "rounds played: 1\n",
      "rounds won by computer 1\n",
      "rounds won by user 0\n",
      "Let's play, choose a gesture, rock, paper or scissors: rock\n",
      "computer choice scissors\n",
      "round won by user\n",
      "\n",
      "\n",
      "rounds played: 2\n",
      "rounds won by computer 1\n",
      "rounds won by user 1\n",
      "Let's play, choose a gesture, rock, paper or scissors: paper\n",
      "computer choice rock\n",
      "round won by user\n",
      "\n",
      "\n",
      "rounds played: 3\n",
      "rounds won by computer 1\n",
      "rounds won by user 2\n"
     ]
    }
   ],
   "source": [
    "cpu_score = 0\n",
    "player_score = 0\n",
    "n_rounds = 0\n",
    "\n",
    "while cpu_score < rounds_to_win and player_score < rounds_to_win:\n",
    "    while True: \n",
    "        try:\n",
    "            choice_user = input(\"Let's play, choose a gesture, rock, paper or scissors: \")\n",
    "            if choice_user == \"rock\" or choice_user == \"paper\" or choice_user == \"scissors\":\n",
    "                break;\n",
    "            else:\n",
    "                print(\"Choice should be either: rock, paper or scissors\")   \n",
    "        except:\n",
    "            continue  \n",
    "    choice_usp = random.choice(gestures)\n",
    "    print('computer choice', choice_usp)\n",
    "    if choice_user == \"rock\" and choice_usp == \"scissors\":\n",
    "        print(\"round won by user\")\n",
    "        player_score = player_score + 1\n",
    "        n_rounds = n_rounds + 1\n",
    "    elif choice_user == \"paper\" and choice_usp == \"rock\":\n",
    "        print(\"round won by user\")\n",
    "        player_score = player_score + 1\n",
    "        n_rounds = n_rounds + 1\n",
    "    elif choice_user == \"scissors\" and choice_usp == \"paper\":\n",
    "        print(\"round won by user\")\n",
    "        player_score = player_score + 1\n",
    "        n_rounds = n_rounds + 1\n",
    "    elif choice_usp == \"rock\" and choice_user == \"scissors\":\n",
    "        print(\"round won by computer\")\n",
    "        cpu_score = cpu_score + 1\n",
    "        n_rounds = n_rounds + 1\n",
    "    elif choice_usp == \"paper\" and choice_user == \"rock\":\n",
    "        print(\"round won by computer\")\n",
    "        cpu_score = cpu_score + 1\n",
    "        n_rounds = n_rounds + 1\n",
    "    elif choice_usp == \"scissors\" and choice_user == \"paper\":\n",
    "        print(\"round won by computer\")\n",
    "        cpu_score = cpu_score + 1\n",
    "        n_rounds = n_rounds + 1\n",
    "    else:\n",
    "        print('Tie, nobody won')\n",
    "        n_rounds = n_rounds + 1\n",
    "    print(\"\\n\")\n",
    "    print('rounds played:', n_rounds)\n",
    "    print('rounds won by computer', cpu_score )\n",
    "    print('rounds won by user', player_score )\n"
   ]
  },
  {
   "cell_type": "markdown",
   "metadata": {},
   "source": [
    "\n",
    "11. Print the winner of the game based on who won more rounds.\n",
    "Remember that the game might be tied"
   ]
  },
  {
   "cell_type": "code",
   "execution_count": null,
   "metadata": {},
   "outputs": [],
   "source": [
    "cpu_score = 0\n",
    "player_score = 0\n",
    "n_rounds = 0\n",
    "cpu_score = 0\n",
    "\n",
    "while cpu_score < rounds_to_win and player_score < rounds_to_win:\n",
    "    while True: \n",
    "        try:\n",
    "            choice_user = input(\"Let's play! Choice gesture, rock, paper or scissors: \")\n",
    "            if choice_user == \"rock\" or choice_user == \"paper\" or choice_user == \"scissors\":\n",
    "                break;\n",
    "            else:\n",
    "                print(\"Gesture should be either: rock, paper or scissors\")   \n",
    "        except:\n",
    "            continue  \n",
    "    choice_usp = random.choice(gestures)\n",
    "    print('computer choice', choice_usp)\n",
    "    if choice_user == \"rock\" and choice_usp == \"scissors\":\n",
    "        print(\"round won by user\")\n",
    "        player_score = player_score + 1\n",
    "        n_rounds = n_rounds + 1\n",
    "    elif choice_user == \"paper\" and choice_usp == \"rock\":\n",
    "        print(\"round won by user\")\n",
    "        player_score = player_score + 1\n",
    "        n_rounds = n_rounds + 1\n",
    "    elif choice_user == \"scissors\" and choice_usp == \"paper\":\n",
    "        print(\"round won by user\")\n",
    "        player_score = player_score + 1\n",
    "        n_rounds = n_rounds + 1\n",
    "    elif choice_usp == \"rock\" and choice_user == \"scissors\":\n",
    "        print(\"round won by computer\")\n",
    "        cpu_score = cpu_score + 1\n",
    "        n_rounds = n_rounds + 1\n",
    "    elif choice_usp == \"paper\" and choice_user == \"rock\":\n",
    "        print(\"round won by computer\")\n",
    "        cpu_score = cpu_score + 1\n",
    "        n_rounds = n_rounds + 1\n",
    "    elif choice_usp == \"scissors\" and choice_user == \"paper\":\n",
    "        print(\"round won by computer\")\n",
    "        cpu_score = cpu_score + 1\n",
    "        n_rounds = n_rounds + 1\n",
    "    else:\n",
    "        print('Tie, nobody won')\n",
    "        n_rounds = n_rounds + 1\n",
    "    print(\"\\n\")\n",
    "    print('rounds played:', n_rounds)\n",
    "    print('rounds won by computer', cpu_score )\n",
    "    print('rounds won by user', player_score )\n",
    "\n",
    "print(\"\\n\")\n",
    "print(\"\\n\")\n",
    "if player_score > cpu_score:\n",
    "    print('Player has won the game')\n",
    "elif player_score == cpu_score:\n",
    "    print('Tie, nobody won, play again')\n",
    "elif player_score < cpu_score:\n",
    "    print('Computer has won the game')\n",
    "    "
   ]
  },
  {
   "cell_type": "code",
   "execution_count": null,
   "metadata": {},
   "outputs": [],
   "source": []
  }
 ],
 "metadata": {
  "kernelspec": {
   "display_name": "Python 3",
   "language": "python",
   "name": "python3"
  },
  "language_info": {
   "codemirror_mode": {
    "name": "ipython",
    "version": 3
   },
   "file_extension": ".py",
   "mimetype": "text/x-python",
   "name": "python",
   "nbconvert_exporter": "python",
   "pygments_lexer": "ipython3",
   "version": "3.8.5"
  }
 },
 "nbformat": 4,
 "nbformat_minor": 4
}
